{
  "nbformat": 4,
  "nbformat_minor": 0,
  "metadata": {
    "colab": {
      "provenance": []
    },
    "kernelspec": {
      "name": "python3",
      "display_name": "Python 3"
    },
    "language_info": {
      "name": "python"
    }
  },
  "cells": [
    {
      "cell_type": "markdown",
      "source": [
        "# Título del Cuaderno: Introducción a la Ciencia de Datos\n"
      ],
      "metadata": {
        "id": "HqiFzYHvu-B2"
      }
    },
    {
      "cell_type": "markdown",
      "source": [
        "## Introducción\n",
        "En este cuaderno, exploraremos los conceptos básicos de la ciencia de datos, incluyendo los lenguajes utilizados, las bibliotecas, y ejemplos de operaciones aritméticas.\n"
      ],
      "metadata": {
        "id": "Qi_WElUQvCjv"
      }
    },
    {
      "cell_type": "markdown",
      "source": [
        "## Lenguajes de Ciencia de Datos\n",
        "- Python\n",
        "- R\n",
        "- SQL\n",
        "- Julia\n",
        "- Scala\n"
      ],
      "metadata": {
        "id": "1wV991BxvH2M"
      }
    },
    {
      "cell_type": "markdown",
      "source": [
        "## Bibliotecas de Ciencia de Datos\n",
        "- Pandas\n",
        "- NumPy\n",
        "- Matplotlib\n",
        "- Scikit-learn\n",
        "- TensorFlow\n"
      ],
      "metadata": {
        "id": "V0O5Hk9qvLN9"
      }
    },
    {
      "cell_type": "markdown",
      "source": [
        "## Herramientas de Ciencia de Datos\n",
        "| Herramienta         | Descripción                                   |\n",
        "|---------------------|-----------------------------------------------|\n",
        "| Jupyter Notebook    | Entorno interactivo para escribir y ejecutar código. |\n",
        "| RStudio             | IDE para R, utilizado para análisis estadístico. |\n",
        "| Apache Spark        | Motor de análisis para procesamiento de big data. |\n"
      ],
      "metadata": {
        "id": "_g0JrhmivNYl"
      }
    },
    {
      "cell_type": "markdown",
      "source": [
        "## Ejemplos de Expresiones Aritméticas\n",
        "Ejemplo de suma: `5 + 3 = 8`  \n",
        "Ejemplo de multiplicación: `4 * 6 = 24`\n"
      ],
      "metadata": {
        "id": "16aAI0uSvRrC"
      }
    },
    {
      "cell_type": "code",
      "execution_count": 1,
      "metadata": {
        "colab": {
          "base_uri": "https://localhost:8080/"
        },
        "id": "FVZoiAoVu4wy",
        "outputId": "95a90b87-b9fe-4b6c-fced-8c038128bd2a"
      },
      "outputs": [
        {
          "output_type": "stream",
          "name": "stdout",
          "text": [
            "Multiplicación: 20, Suma: 9\n"
          ]
        }
      ],
      "source": [
        "multiplicacion = 4 * 5\n",
        "suma = 4 + 5\n",
        "print(f\"Multiplicación: {multiplicacion}, Suma: {suma}\")\n"
      ]
    },
    {
      "cell_type": "code",
      "source": [
        "minutos = 150\n",
        "horas = minutos / 60\n",
        "print(f\"{minutos} minutos son {horas} horas\")\n"
      ],
      "metadata": {
        "colab": {
          "base_uri": "https://localhost:8080/"
        },
        "id": "MJtWMZ4YvaQG",
        "outputId": "1dcf5ba7-b3e2-4f6e-97b1-5a955440c8e4"
      },
      "execution_count": 2,
      "outputs": [
        {
          "output_type": "stream",
          "name": "stdout",
          "text": [
            "150 minutos son 2.5 horas\n"
          ]
        }
      ]
    },
    {
      "cell_type": "code",
      "source": [
        "objetivos = [\"Aprender los fundamentos de la ciencia de datos\",\n",
        "             \"Familiarizarse con herramientas de ciencia de datos\",\n",
        "             \"Aplicar conceptos a proyectos reales\"]\n",
        "for objetivo in objetivos:\n",
        "    print(objetivo)\n"
      ],
      "metadata": {
        "colab": {
          "base_uri": "https://localhost:8080/"
        },
        "id": "hSeM7KUeveU7",
        "outputId": "2b362344-90be-423e-a50a-95767d239137"
      },
      "execution_count": 3,
      "outputs": [
        {
          "output_type": "stream",
          "name": "stdout",
          "text": [
            "Aprender los fundamentos de la ciencia de datos\n",
            "Familiarizarse con herramientas de ciencia de datos\n",
            "Aplicar conceptos a proyectos reales\n"
          ]
        }
      ]
    },
    {
      "cell_type": "markdown",
      "source": [
        "## Autor\n",
        "Nombre del Autor: Marco"
      ],
      "metadata": {
        "id": "7R_wo33yvhFj"
      }
    },
    {
      "cell_type": "code",
      "source": [],
      "metadata": {
        "id": "SQq7aJ_vvkA7"
      },
      "execution_count": null,
      "outputs": []
    }
  ]
}